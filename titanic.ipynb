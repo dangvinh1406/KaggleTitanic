{
 "cells": [
  {
   "cell_type": "markdown",
   "metadata": {},
   "source": [
    "# Analyzing data\n",
    "In this part we will read the dataset, manipulate and visualize overviewed information. The dataset contains 12 fields, including 10 information columns, 1 column for passenger ID which is meaningless, and 1 column for labels. We will use `pandas` library to load and analyze the correlation between each field and the labels (survival status of passengers).  \n",
    "Noted that some `str` fields will be converted from categorical data to numerical data (such as \"Sex\" and \"Embarked\"), meanwhile others will be obmitted (such as \"Name\", \"Ticket\" and \"Cabin\") because they are pure string and can not be calculated correlations. In first view, perhaps they need to be preprocessed to obtain more meaningful information. For example, some rules can be hidden inside name of the passengers, let us say \"if the name contains 'Master', that should be a passenger of the business class rather than others in the economic class\". However this information may not affects too much to the survival status, because other fields have already covered those rules, let us say the price of the ticket can represent the class of the passengers. "
   ]
  },
  {
   "cell_type": "code",
   "execution_count": 122,
   "metadata": {},
   "outputs": [
    {
     "data": {
      "image/png": "[encoded data removed]",
      "text/plain": [
       "<Figure size 432x288 with 1 Axes>"
      ]
     },
     "metadata": {},
     "output_type": "display_data"
    }
   ],
   "source": [
    "import pandas\n",
    "import matplotlib.pyplot as plt\n",
    "\n",
    "survival_field = \"Survived\"\n",
    "data = pandas.read_csv(\"./data/train.csv\")\n",
    "correlations = {}\n",
    "for field in data.keys():\n",
    "    if field in [\"Name\", \"Ticket\", \"Cabin\"]:\n",
    "        del data[field]\n",
    "        continue\n",
    "    elif field in [\"Sex\",\"Embarked\"]:\n",
    "        data[field] = pandas.factorize(data[field])[0]\n",
    "    correlations[field] = data[survival_field].corr(data[field], method=\"pearson\")\n",
    "\n",
    "plt.bar(range(len(correlations)), correlations.values(), align='center')\n",
    "plt.xticks(range(len(correlations)), correlations.keys(), rotation='vertical')\n",
    "plt.title('Correlation diagram')\n",
    "plt.show()"
   ]
  },
  {
   "cell_type": "markdown",
   "metadata": {},
   "source": [
    "# First trial\n",
    "We will directly use the considered fields to create feature vectors and apply some traditional methods to solve this problem, in order to have a clear overview as well as understanding the hard key points of this.  \n",
    "Firstly, we split the dataset into training and testing sets (70% for training), then try using Support Vector Machine (SVM) with kernel \"linear\"."
   ]
  },
  {
   "cell_type": "code",
   "execution_count": 124,
   "metadata": {},
   "outputs": [
    {
     "name": "stdout",
     "output_type": "stream",
     "text": [
      "Accuracy using SVM-linear:  0.7686567164179104\n"
     ]
    }
   ],
   "source": [
    "from sklearn.svm import SVC\n",
    "from sklearn.metrics import accuracy_score\n",
    "\n",
    "data = data.sample(frac=1).reset_index(drop=True)\n",
    "data = data.fillna(0)\n",
    "trainingData = data[:int(0.7*len(data))]\n",
    "testingData = data[int(0.7*len(data)):]\n",
    "trainingData = trainingData.values\n",
    "testingData = testingData.values\n",
    "\n",
    "X = trainingData[:, 2:]\n",
    "Y = trainingData[:, 1]\n",
    "clf = SVC(kernel=\"linear\")\n",
    "clf.fit(X, Y)\n",
    "\n",
    "x = testingData[:, 2:]\n",
    "y = testingData[:, 1]\n",
    "z = clf.predict(x)\n",
    "\n",
    "accuracy = accuracy_score(y, z)\n",
    "print(\"Accuracy using SVM-linear: \", accuracy)"
   ]
  },
  {
   "cell_type": "markdown",
   "metadata": {},
   "source": [
    "Save the model if needed:"
   ]
  },
  {
   "cell_type": "code",
   "execution_count": 116,
   "metadata": {},
   "outputs": [
    {
     "data": {
      "text/plain": [
       "['./data/svm.pkl']"
      ]
     },
     "execution_count": 116,
     "metadata": {},
     "output_type": "execute_result"
    }
   ],
   "source": [
    "from sklearn.externals import joblib\n",
    "\n",
    "joblib.dump(clf, './data/svm.pkl') "
   ]
  },
  {
   "cell_type": "markdown",
   "metadata": {},
   "source": [
    "And perform prediction in the blind test to get the final result if needed:"
   ]
  },
  {
   "cell_type": "code",
   "execution_count": 170,
   "metadata": {},
   "outputs": [],
   "source": [
    "numericData = data.values\n",
    "Xall = numericData[:, 2:]\n",
    "Yall = numericData[:, 1]\n",
    "clf = SVC(kernel=\"linear\")\n",
    "clf.fit(Xall, Yall)\n",
    "\n",
    "blindData = pandas.read_csv(\"./data/test.csv\")\n",
    "for field in blindData.keys():\n",
    "    if field in [\"Name\", \"Ticket\", \"Cabin\"]:\n",
    "        del blindData[field]\n",
    "        continue\n",
    "    elif field in [\"Sex\",\"Embarked\"]:\n",
    "        blindData[field] = pandas.factorize(blindData[field])[0]\n",
    "\n",
    "blindData = blindData.fillna(0)\n",
    "numericBlindData = blindData.values\n",
    "predictedResult = clf.predict(numericBlindData[:, 1:])\n",
    "with open(\"./data/predicted.csv\", \"w\") as file:\n",
    "    file.write(\"PassengerId,Survived\\n\")\n",
    "    for i in range(len(predictedResult)):\n",
    "        file.write(str(int(numericBlindData[i, 0]))+\",\"+str(int(predictedResult[i]))+\"\\n\")"
   ]
  },
  {
   "cell_type": "markdown",
   "metadata": {},
   "source": [
    "__The final accuracy after submitting to Kaggle by this method is 0.76555.__\n",
    "# Implementation\n",
    "Now we try to convert categorical fields into one-hot features and hopefully it can improve the performance. To do that we implement a module to preprocess from the input data file.  \n",
    "Changing kernel of SVM to \"rbf\" and only using features of fields \"Pclass\", \"Sex\", \"Embarked\", \"Fare\" and \"Age\" we can get a slightly improvement, __accuracy 0.77990 from Kaggle__."
   ]
  },
  {
   "cell_type": "code",
   "execution_count": 234,
   "metadata": {},
   "outputs": [],
   "source": [
    "import random\n",
    "import numpy\n",
    "from src.process import Preprocessor\n",
    "\n",
    "data2 = Preprocessor.process_data(\"./data/train.csv\")\n",
    "data2 = Preprocessor.convert_data(data2)\n",
    "random.shuffle(data2)\n",
    "trainingData2 = data2[:int(0.7*len(data2))]\n",
    "testingData2 = data2[int(0.7*len(data2)):]\n",
    "trainingData2 = numpy.array(trainingData2)\n",
    "testingData2 = numpy.array(testingData2)\n",
    "\n",
    "X2 = trainingData2[:, 2:]\n",
    "Y2 = trainingData2[:, 1]\n"
   ]
  },
  {
   "cell_type": "code",
   "execution_count": 221,
   "metadata": {},
   "outputs": [],
   "source": [
    "import importlib\n",
    "importlib.reload(src.process)\n",
    "from src.process import Preprocessor"
   ]
  },
  {
   "cell_type": "code",
   "execution_count": null,
   "metadata": {},
   "outputs": [],
   "source": []
  }
 ],
 "metadata": {
  "kernelspec": {
   "display_name": "Python 3",
   "language": "python",
   "name": "python3"
  },
  "language_info": {
   "codemirror_mode": {
    "name": "ipython",
    "version": 3
   },
   "file_extension": ".py",
   "mimetype": "text/x-python",
   "name": "python",
   "nbconvert_exporter": "python",
   "pygments_lexer": "ipython3",
   "version": "3.5.2"
  }
 },
 "nbformat": 4,
 "nbformat_minor": 2
}
