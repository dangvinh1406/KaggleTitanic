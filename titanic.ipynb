{
 "cells": [
  {
   "cell_type": "markdown",
   "metadata": {},
   "source": [
    "# Analyzing data\n",
    "In this part we will read the dataset, manipulate and visualize overviewed information. The dataset contains 12 fields, including 10 information columns, 1 column for passenger ID which is meaningless, and 1 column for labels. We will use `pandas` library to load and analyze the correlation between each field and the labels (survival status of passengers).  \n",
    "Noted that some `str` fields will be converted from categorical data to numerical data (such as \"Sex\" and \"Embarked\"), meanwhile others will be obmitted (such as \"Name\", \"Ticket\" and \"Cabin\") because they are pure string and can not be calculated correlations. In first view, perhaps they need to be preprocessed to obtain more meaningful information. For example, some rules can be hidden inside name of the passengers, let us say \"if the name contains 'Master', that should be a passenger of the business class rather than others in the economic class\". However this information may not affects too much to the survival status, because other fields have already covered those rules, let us say the price of the ticket can represent the class of the passengers. "
   ]
  },
  {
   "cell_type": "code",
   "execution_count": 4,
   "metadata": {},
   "outputs": [
    {
     "data": {
      "image/png": "[encoded data removed]",
      "text/plain": [
       "<Figure size 432x288 with 1 Axes>"
      ]
     },
     "metadata": {},
     "output_type": "display_data"
    }
   ],
   "source": [
    "import pandas\n",
    "import matplotlib.pyplot as plt\n",
    "\n",
    "survival_field = \"Survived\"\n",
    "data = pandas.read_csv(\"./data/train.csv\")\n",
    "\n",
    "number = data.groupby(survival_field).count()\n",
    "plt.pie([number.PassengerId[0], number.PassengerId[1]], labels=[\"dead\", \"survived\"], autopct='%.2f%%')\n",
    "plt.title('Ratio diagram')\n",
    "plt.show()"
   ]
  },
  {
   "cell_type": "code",
   "execution_count": 7,
   "metadata": {},
   "outputs": [
    {
     "data": {
      "image/png": "[encoded data removed]",
      "text/plain": [
       "<Figure size 432x288 with 1 Axes>"
      ]
     },
     "metadata": {},
     "output_type": "display_data"
    }
   ],
   "source": [
    "correlations = {}\n",
    "for field in data.keys():\n",
    "    if field in [\"Name\", \"Ticket\", \"Cabin\"]:\n",
    "        del data[field]\n",
    "        continue\n",
    "    elif field in [\"Sex\",\"Embarked\"]:\n",
    "        data[field] = pandas.factorize(data[field])[0]\n",
    "    correlations[field] = data[survival_field].corr(data[field], method=\"pearson\")\n",
    "\n",
    "plt.bar(range(len(correlations)), correlations.values(), align='center')\n",
    "plt.xticks(range(len(correlations)), correlations.keys(), rotation='vertical')\n",
    "plt.title('Correlation diagram')\n",
    "plt.show()"
   ]
  },
  {
   "cell_type": "markdown",
   "metadata": {},
   "source": [
    "# First trial\n",
    "We will directly use the considered fields to create feature vectors and apply some traditional methods to solve this problem, in order to have a clear overview as well as understanding the hard key points of this.  \n",
    "Firstly, we split the dataset into training and testing sets (70% for training), then try using Support Vector Machine (SVM) with kernel \"linear\"."
   ]
  },
  {
   "cell_type": "code",
   "execution_count": 5,
   "metadata": {},
   "outputs": [
    {
     "name": "stdout",
     "output_type": "stream",
     "text": [
      "Accuracy using SVM-linear:  0.7686567164179104\n"
     ]
    }
   ],
   "source": [
    "from sklearn.svm import SVC\n",
    "from sklearn.metrics import accuracy_score\n",
    "\n",
    "data = data.sample(frac=1).reset_index(drop=True)\n",
    "data = data.fillna(0)\n",
    "trainingData = data[:int(0.7*len(data))]\n",
    "testingData = data[int(0.7*len(data)):]\n",
    "trainingData = trainingData.values\n",
    "testingData = testingData.values\n",
    "\n",
    "X = trainingData[:, 2:]\n",
    "Y = trainingData[:, 1]\n",
    "clf = SVC(kernel=\"linear\")\n",
    "clf.fit(X, Y)\n",
    "\n",
    "x = testingData[:, 2:]\n",
    "y = testingData[:, 1]\n",
    "z = clf.predict(x)\n",
    "\n",
    "accuracy = accuracy_score(y, z)\n",
    "print(\"Accuracy using SVM-linear: \", accuracy)"
   ]
  },
  {
   "cell_type": "markdown",
   "metadata": {},
   "source": [
    "Save the model if needed:"
   ]
  },
  {
   "cell_type": "code",
   "execution_count": 116,
   "metadata": {},
   "outputs": [
    {
     "data": {
      "text/plain": [
       "['./data/svm.pkl']"
      ]
     },
     "execution_count": 116,
     "metadata": {},
     "output_type": "execute_result"
    }
   ],
   "source": [
    "from sklearn.externals import joblib\n",
    "\n",
    "joblib.dump(clf, './data/svm.pkl') "
   ]
  },
  {
   "cell_type": "markdown",
   "metadata": {},
   "source": [
    "And perform prediction in the blind test to get the final result if needed:"
   ]
  },
  {
   "cell_type": "code",
   "execution_count": 170,
   "metadata": {},
   "outputs": [],
   "source": [
    "numericData = data.values\n",
    "Xall = numericData[:, 2:]\n",
    "Yall = numericData[:, 1]\n",
    "clf = SVC(kernel=\"linear\")\n",
    "clf.fit(Xall, Yall)\n",
    "\n",
    "blindData = pandas.read_csv(\"./data/test.csv\")\n",
    "for field in blindData.keys():\n",
    "    if field in [\"Name\", \"Ticket\", \"Cabin\"]:\n",
    "        del blindData[field]\n",
    "        continue\n",
    "    elif field in [\"Sex\",\"Embarked\"]:\n",
    "        blindData[field] = pandas.factorize(blindData[field])[0]\n",
    "\n",
    "blindData = blindData.fillna(0)\n",
    "numericBlindData = blindData.values\n",
    "predictedResult = clf.predict(numericBlindData[:, 1:])\n",
    "with open(\"./data/predicted.csv\", \"w\") as file:\n",
    "    file.write(\"PassengerId,Survived\\n\")\n",
    "    for i in range(len(predictedResult)):\n",
    "        file.write(str(int(numericBlindData[i, 0]))+\",\"+str(int(predictedResult[i]))+\"\\n\")"
   ]
  },
  {
   "cell_type": "markdown",
   "metadata": {},
   "source": [
    "__The final accuracy after submitting to Kaggle by this method is 0.76555.__\n",
    "# Implementation\n",
    "Now we try to convert categorical fields into one-hot features and hopefully it can improve the performance. To do that we implement a module to preprocess from the input data file.  Changing kernel of SVM to \"rbf\" and only using features of fields \"Pclass\", \"Sex\", \"Embarked\", \"Fare\" and \"Age\" we can get a slightly improvement, __accuracy 0.77990 from Kaggle__, while using more or less fields such as \"Fare\", \"SibSp\" , \"Parch\" and \"Age\" does not affect to the accuracy. This leads to the conclusion that we need another classification method \"stronger\" than SVM, which can have more ability to find some rules in \"Fare\" and \"Age\". Furthermore we need to mining more information inside text fields \"Cabin\", \"Ticket\", especially \"Name\".  \n",
    "After we try to extract information from \"Name\", \"Cabin\" and \"Ticket\" while still using SVM-linear (and keep all remaining fields), __the accuracy from Kaggle is 0.78468__, which is higher a bit:"
   ]
  },
  {
   "cell_type": "code",
   "execution_count": 1,
   "metadata": {},
   "outputs": [],
   "source": [
    "import numpy\n",
    "import matplotlib.pyplot as plt\n",
    "from sklearn.metrics import accuracy_score\n",
    "from sklearn.svm import SVC\n",
    "from src.process import Preprocessor\n",
    "\n",
    "data = Preprocessor.process_data(\"./data/train.csv\")\n",
    "data = Preprocessor.convert_data(data)\n",
    "data = numpy.array(data)\n",
    "\n",
    "clf = SVC(kernel=\"rbf\")\n",
    "\n",
    "X = data[:, 2:]\n",
    "Y = data[:, 1]\n",
    "clf.fit(X, Y)\n",
    "\n",
    "blindData = Preprocessor.process_data(\"./data/test.csv\")\n",
    "blindData = Preprocessor.convert_data(blindData)\n",
    "blindData = numpy.array(blindData)\n",
    "\n",
    "predictedResult = clf.predict(blindData[:, 1:])\n",
    "with open(\"./data/predicted6.csv\", \"w\") as file:\n",
    "    file.write(\"PassengerId,Survived\\n\")\n",
    "    for i in range(len(predictedResult)):\n",
    "        file.write(str(int(blindData[i, 0]))+\",\"+str(int(predictedResult[i]))+\"\\n\")"
   ]
  },
  {
   "cell_type": "markdown",
   "metadata": {},
   "source": [
    "We will try to make a neural network with multiple layers, but due to the small size of dataset, this approach may not work better than SVM. "
   ]
  },
  {
   "cell_type": "code",
   "execution_count": 1,
   "metadata": {
    "scrolled": false
   },
   "outputs": [],
   "source": [
    "import random\n",
    "import numpy\n",
    "import matplotlib.pyplot as plt\n",
    "from sklearn.metrics import accuracy_score\n",
    "from src.learn import TitanicModel\n",
    "from src.process import Preprocessor\n",
    "\n",
    "data2 = Preprocessor.process_data(\"./data/train.csv\")\n",
    "data2 = Preprocessor.convert_data(data2)\n",
    "\n",
    "clf2 = TitanicModel()\n",
    "epochNum = 200\n",
    "batchSize = 50\n",
    "trainRatio = 0.7\n",
    "\n",
    "random.shuffle(data2)\n",
    "trainingData2 = data2[:int(trainRatio*len(data2))]\n",
    "testingData2 = data2[int(trainRatio*len(data2)):]\n",
    "testingData2 = numpy.array(testingData2)\n",
    "x2 = testingData2[:, 2:]\n",
    "y2 = testingData2[:, 1]\n",
    "\n",
    "losses = []\n",
    "accuracies = []\n",
    "for epoch in range(epochNum):\n",
    "    random.shuffle(trainingData2)\n",
    "    trainingData2 = numpy.array(trainingData2)\n",
    "    X2 = trainingData2[:, 2:]\n",
    "    Y2 = trainingData2[:, 1]\n",
    "\n",
    "    totalLoss = 0\n",
    "    indice = 0\n",
    "    for i in range(0, len(X2), batchSize):\n",
    "        totalLoss += clf2.fit_on_batch(X2[i:i+batchSize, :], Y2[i:i+batchSize])\n",
    "        indice += 1\n",
    "    losses.append(totalLoss/indice)\n",
    "    \n",
    "    z2 = clf2.predict(x2)\n",
    "    accuracy2 = accuracy_score(y2, z2)\n",
    "    accuracies.append(accuracy2)\n",
    "\n",
    "clf2.save(\"./data/model/\")"
   ]
  },
  {
   "cell_type": "code",
   "execution_count": 2,
   "metadata": {},
   "outputs": [
    {
     "data": {
      "image/png": "[encoded data removed]",
      "text/plain": [
       "<Figure size 432x288 with 2 Axes>"
      ]
     },
     "metadata": {},
     "output_type": "display_data"
    }
   ],
   "source": [
    "fig, (ax1, ax2) = plt.subplots(2, 1)\n",
    "ax1.plot(range(len(losses)), losses)\n",
    "ax1.set_title('Training loss')\n",
    "ax2.plot(range(len(accuracies)), accuracies)\n",
    "ax2.set_title('Validation accuracy')\n",
    "fig.subplots_adjust(hspace=0.5)\n",
    "plt.show()"
   ]
  },
  {
   "cell_type": "code",
   "execution_count": null,
   "metadata": {},
   "outputs": [],
   "source": []
  },
  {
   "cell_type": "code",
   "execution_count": null,
   "metadata": {},
   "outputs": [],
   "source": []
  }
 ],
 "metadata": {
  "kernelspec": {
   "display_name": "Python 3",
   "language": "python",
   "name": "python3"
  },
  "language_info": {
   "codemirror_mode": {
    "name": "ipython",
    "version": 3
   },
   "file_extension": ".py",
   "mimetype": "text/x-python",
   "name": "python",
   "nbconvert_exporter": "python",
   "pygments_lexer": "ipython3",
   "version": "3.5.2"
  }
 },
 "nbformat": 4,
 "nbformat_minor": 2
}
